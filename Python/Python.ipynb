{
  "nbformat": 4,
  "nbformat_minor": 0,
  "metadata": {
    "colab": {
      "provenance": [],
      "authorship_tag": "ABX9TyPSUVhwrQOcBXRh5S04Bs5d",
      "include_colab_link": true
    },
    "kernelspec": {
      "name": "python3",
      "display_name": "Python 3"
    },
    "language_info": {
      "name": "python"
    }
  },
  "cells": [
    {
      "cell_type": "markdown",
      "metadata": {
        "id": "view-in-github",
        "colab_type": "text"
      },
      "source": [
        "<a href=\"https://colab.research.google.com/github/Jude-Ufoh/Learning_series/blob/main/Python/Python.ipynb\" target=\"_parent\"><img src=\"https://colab.research.google.com/assets/colab-badge.svg\" alt=\"Open In Colab\"/></a>"
      ]
    },
    {
      "cell_type": "code",
      "source": [],
      "metadata": {
        "id": "JsDjPdLjrtXB"
      },
      "execution_count": null,
      "outputs": []
    },
    {
      "cell_type": "code",
      "source": [],
      "metadata": {
        "id": "rUyb0Gs0OzNP"
      },
      "execution_count": null,
      "outputs": []
    },
    {
      "cell_type": "markdown",
      "source": [
        "### OBJECT ORIENTED PROGRAMMING"
      ],
      "metadata": {
        "id": "h4-h01Y-gf3z"
      }
    },
    {
      "cell_type": "markdown",
      "source": [
        "*Question 1*. Write a class called Investment with fields called principal and interest. The construc\u0002tor should set the values of those fields. There should be a method called value_after that\n",
        "returns the value of the investment after n years. The formula for this is p(1 + i)\n",
        "n\n",
        ", where p is\n",
        "the principal, and i is the interest rate. It should also use the special method *__str__* so that\n",
        "printing the object will result in something like below:\n",
        "Principal - $1000.00, Interest rate - 5.12%"
      ],
      "metadata": {
        "id": "C5mUb9mUgf4r"
      }
    },
    {
      "cell_type": "code",
      "source": [
        "class Investment:\n",
        "    def __init__(self, principal, interest):\n",
        "        \"\"\"\n",
        "        Constructor to initialize the principal and interest rate.\n",
        "        :param principal: The initial amount of the investment (float).\n",
        "        :param interest: The annual interest rate as a percentage (float).\n",
        "        \"\"\"\n",
        "        self.principal = principal\n",
        "        self.interest = interest / 100  # Convert interest percentage to a decimal\n",
        "\n",
        "    def value_after(self, n):\n",
        "        \"\"\"\n",
        "        Calculate the value of the investment after n years.\n",
        "        :param n: Number of years (int).\n",
        "        :return: Value of the investment (float).\n",
        "        \"\"\"\n",
        "        return self.principal * (1 + self.interest) ** n\n",
        "\n",
        "    def __str__(self):\n",
        "        \"\"\"\n",
        "        Special method to return a string representation of the object.\n",
        "        :return: A string with principal and interest rate details.\n",
        "        \"\"\"\n",
        "        return f\"Principal - ${self.principal:.2f}, Interest rate - {self.interest * 100:.2f}%\"\n",
        "\n",
        "# Example usage\n",
        "investment = Investment(1000, 5.12)\n",
        "print(investment)  # Uses the __str__ method\n",
        "print(f\"Value after 10 years: ${investment.value_after(10):.2f}\")\n"
      ],
      "metadata": {
        "colab": {
          "base_uri": "https://localhost:8080/"
        },
        "id": "EXhMmisKgjh6",
        "outputId": "587e6f4d-46ab-4ec6-ca5b-25c9b60cfc97"
      },
      "execution_count": 3,
      "outputs": [
        {
          "output_type": "stream",
          "name": "stdout",
          "text": [
            "Principal - $1000.00, Interest rate - 5.12%\n",
            "Value after 10 years: $1647.61\n"
          ]
        }
      ]
    },
    {
      "cell_type": "markdown",
      "source": [
        "**Question 2**: Write a class called Product. The class should have fields called name, amount, and price,\n",
        "holding the product’s name, the number of items of that product in stock, and the regular\n",
        "price of the product. There should be a method get_price that receives the number of\n",
        "items to be bought and returns a the cost of buying that many items, where the regular price\n",
        "\n",
        "is charged for orders of less than 10 items, a 10% discount is applied for orders of between\n",
        "10 and 99 items, and a 20% discount is applied for orders of 100 or more items. There should\n",
        "also be a method called make_purchase that receives the number of items to be bought and\n",
        "decreases amount by that much."
      ],
      "metadata": {
        "id": "7EgQdIvlgjin"
      }
    },
    {
      "cell_type": "code",
      "source": [
        "class Product:\n",
        "    def __init__(self, name, amount, price):\n",
        "        \"\"\"\n",
        "        Initialize the product with a name, stock amount, and regular price.\n",
        "        :param name: Name of the product (str).\n",
        "        :param amount: Number of items in stock (int).\n",
        "        :param price: Regular price of the product per item (float).\n",
        "        \"\"\"\n",
        "        self.name = name\n",
        "        self.amount = amount\n",
        "        self.price = price\n",
        "\n",
        "    def get_price(self, quantity):\n",
        "        \"\"\"\n",
        "        Calculate the cost of buying the specified quantity with applicable discounts.\n",
        "        :param quantity: Number of items to be bought (int).\n",
        "        :return: Total cost (float).\n",
        "        \"\"\"\n",
        "        if quantity < 10:\n",
        "            discount = 0  # No discount\n",
        "        elif 10 <= quantity <= 99:\n",
        "            discount = 0.10  # 10% discount\n",
        "        else:  # 100 or more items\n",
        "            discount = 0.20  # 20% discount\n",
        "\n",
        "        return quantity * self.price * (1 - discount)\n",
        "\n",
        "    def make_purchase(self, quantity):\n",
        "        \"\"\"\n",
        "        Update the stock by reducing the number of items purchased.\n",
        "        :param quantity: Number of items to be bought (int).\n",
        "        :return: None\n",
        "        \"\"\"\n",
        "        if quantity > self.amount:\n",
        "            raise ValueError(\"Not enough stock available to complete the purchase.\")\n",
        "        self.amount -= quantity\n",
        "\n",
        "    def __str__(self):\n",
        "        \"\"\"\n",
        "        Return a string representation of the product.\n",
        "        :return: A string showing the product name, amount in stock, and price.\n",
        "        \"\"\"\n",
        "        return f\"Product: {self.name}, Stock: {self.amount}, Price: ${self.price:.2f}\"\n",
        "\n",
        "# Example usage\n",
        "product = Product(\"Widget\", 200, 50.0)\n",
        "print(product)  # Print product details\n",
        "\n",
        "# Calculate price for different quantities\n",
        "print(f\"Price for 5 items: ${product.get_price(5):.2f}\")\n",
        "print(f\"Price for 20 items: ${product.get_price(20):.2f}\")\n",
        "print(f\"Price for 150 items: ${product.get_price(150):.2f}\")\n",
        "\n",
        "# Make a purchase\n",
        "product.make_purchase(20)\n",
        "print(f\"After purchase, stock: {product.amount}\")\n"
      ],
      "metadata": {
        "id": "rqWXOUn2gjxi"
      },
      "execution_count": null,
      "outputs": []
    }
  ]
}